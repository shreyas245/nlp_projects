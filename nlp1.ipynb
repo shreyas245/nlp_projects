{
 "cells": [
  {
   "cell_type": "code",
   "execution_count": null,
   "metadata": {},
   "outputs": [],
   "source": [
    "pip install nltk\n"
   ]
  },
  {
   "cell_type": "code",
   "execution_count": 2,
   "metadata": {},
   "outputs": [],
   "source": [
    "import nltk\n",
    "from nltk.tokenize import word_tokenize, TweetTokenizer\n",
    "from nltk.tokenize import MWETokenizer\n",
    "from nltk.tokenize.treebank import TreebankWordTokenizer\n",
    "from nltk.stem import PorterStemmer, SnowballStemmer\n",
    "from nltk.stem import WordNetLemmatizer\n",
    "from nltk.corpus import stopwords\n",
    "import string"
   ]
  },
  {
   "cell_type": "code",
   "execution_count": 3,
   "metadata": {},
   "outputs": [
    {
     "name": "stderr",
     "output_type": "stream",
     "text": [
      "[nltk_data] Downloading package punkt to\n",
      "[nltk_data]     C:\\Users\\shrey\\AppData\\Roaming\\nltk_data...\n",
      "[nltk_data]   Unzipping tokenizers\\punkt.zip.\n",
      "[nltk_data] Downloading package wordnet to\n",
      "[nltk_data]     C:\\Users\\shrey\\AppData\\Roaming\\nltk_data...\n",
      "[nltk_data] Downloading package stopwords to\n",
      "[nltk_data]     C:\\Users\\shrey\\AppData\\Roaming\\nltk_data...\n",
      "[nltk_data]   Unzipping corpora\\stopwords.zip.\n"
     ]
    },
    {
     "data": {
      "text/plain": [
       "True"
      ]
     },
     "execution_count": 3,
     "metadata": {},
     "output_type": "execute_result"
    }
   ],
   "source": [
    "nltk.download('punkt')\n",
    "nltk.download('wordnet')\n",
    "nltk.download('stopwords')"
   ]
  },
  {
   "cell_type": "code",
   "execution_count": 4,
   "metadata": {},
   "outputs": [],
   "source": [
    "\n",
    "# Sample text for demonstration\n",
    "text = \"Tokenization is the process of splitting text into tokens. It's an important step in natural language processing!\"\n"
   ]
  },
  {
   "cell_type": "code",
   "execution_count": 5,
   "metadata": {},
   "outputs": [],
   "source": [
    "\n",
    "# Tokenization using different methods\n",
    "# 1. Whitespace tokenization\n",
    "whitespace_tokens = text.split()\n",
    "\n",
    "# 2. Punctuation-based tokenization\n",
    "punctuation_tokens = [word.strip(string.punctuation) for word in text.split() if word.strip(string.punctuation)]\n",
    "\n",
    "# 3. Treebank tokenization\n",
    "treebank_tokenizer = TreebankWordTokenizer()\n",
    "treebank_tokens = treebank_tokenizer.tokenize(text)\n",
    "\n",
    "# 4. Tweet tokenizer for social media text\n",
    "tweet_tokenizer = TweetTokenizer()\n",
    "tweet_tokens = tweet_tokenizer.tokenize(text)\n",
    "\n",
    "# 5. Multi-Word Expression (MWE) tokenizer\n",
    "mwe_tokenizer = MWETokenizer([('natural', 'language'), ('important', 'step')])\n",
    "mwe_tokens = mwe_tokenizer.tokenize(word_tokenize(text))\n"
   ]
  },
  {
   "cell_type": "code",
   "execution_count": 6,
   "metadata": {},
   "outputs": [],
   "source": [
    "\n",
    "# Stemming using Porter and Snowball stemmers\n",
    "porter_stemmer = PorterStemmer()\n",
    "snowball_stemmer = SnowballStemmer('english')\n",
    "\n",
    "porter_stems = [porter_stemmer.stem(token) for token in word_tokenize(text)]\n",
    "snowball_stems = [snowball_stemmer.stem(token) for token in word_tokenize(text)]\n",
    "\n",
    "# Lemmatization using WordNet lemmatizer\n",
    "lemmatizer = WordNetLemmatizer()\n",
    "\n",
    "lemmas = [lemmatizer.lemmatize(token) for token in word_tokenize(text)]"
   ]
  },
  {
   "cell_type": "code",
   "execution_count": 7,
   "metadata": {},
   "outputs": [
    {
     "name": "stdout",
     "output_type": "stream",
     "text": [
      "Original Text:\n",
      "Tokenization is the process of splitting text into tokens. It's an important step in natural language processing!\n",
      "\n",
      "Tokenization:\n",
      "Whitespace Tokens: ['Tokenization', 'is', 'the', 'process', 'of', 'splitting', 'text', 'into', 'tokens.', \"It's\", 'an', 'important', 'step', 'in', 'natural', 'language', 'processing!']\n",
      "Punctuation Tokens: ['Tokenization', 'is', 'the', 'process', 'of', 'splitting', 'text', 'into', 'tokens', \"It's\", 'an', 'important', 'step', 'in', 'natural', 'language', 'processing']\n",
      "Treebank Tokens: ['Tokenization', 'is', 'the', 'process', 'of', 'splitting', 'text', 'into', 'tokens.', 'It', \"'s\", 'an', 'important', 'step', 'in', 'natural', 'language', 'processing', '!']\n",
      "Tweet Tokens: ['Tokenization', 'is', 'the', 'process', 'of', 'splitting', 'text', 'into', 'tokens', '.', \"It's\", 'an', 'important', 'step', 'in', 'natural', 'language', 'processing', '!']\n",
      "MWE Tokens: ['Tokenization', 'is', 'the', 'process', 'of', 'splitting', 'text', 'into', 'tokens', '.', 'It', \"'s\", 'an', 'important_step', 'in', 'natural_language', 'processing', '!']\n",
      "\n",
      "Stemming:\n",
      "Porter Stems: ['token', 'is', 'the', 'process', 'of', 'split', 'text', 'into', 'token', '.', 'it', \"'s\", 'an', 'import', 'step', 'in', 'natur', 'languag', 'process', '!']\n",
      "Snowball Stems: ['token', 'is', 'the', 'process', 'of', 'split', 'text', 'into', 'token', '.', 'it', \"'s\", 'an', 'import', 'step', 'in', 'natur', 'languag', 'process', '!']\n",
      "\n",
      "Lemmatization:\n",
      "Lemmas: ['Tokenization', 'is', 'the', 'process', 'of', 'splitting', 'text', 'into', 'token', '.', 'It', \"'s\", 'an', 'important', 'step', 'in', 'natural', 'language', 'processing', '!']\n"
     ]
    }
   ],
   "source": [
    "\n",
    "print(\"Original Text:\")\n",
    "print(text)\n",
    "\n",
    "print(\"\\nTokenization:\")\n",
    "print(\"Whitespace Tokens:\", whitespace_tokens)\n",
    "print(\"Punctuation Tokens:\", punctuation_tokens)\n",
    "print(\"Treebank Tokens:\", treebank_tokens)\n",
    "print(\"Tweet Tokens:\", tweet_tokens)\n",
    "print(\"MWE Tokens:\", mwe_tokens)\n",
    "\n",
    "print(\"\\nStemming:\")\n",
    "print(\"Porter Stems:\", porter_stems)\n",
    "print(\"Snowball Stems:\", snowball_stems)\n",
    "\n",
    "print(\"\\nLemmatization:\")\n",
    "print(\"Lemmas:\", lemmas)"
   ]
  }
 ],
 "metadata": {
  "kernelspec": {
   "display_name": "Python 3",
   "language": "python",
   "name": "python3"
  },
  "language_info": {
   "codemirror_mode": {
    "name": "ipython",
    "version": 3
   },
   "file_extension": ".py",
   "mimetype": "text/x-python",
   "name": "python",
   "nbconvert_exporter": "python",
   "pygments_lexer": "ipython3",
   "version": "3.11.9"
  }
 },
 "nbformat": 4,
 "nbformat_minor": 2
}

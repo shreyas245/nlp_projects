{
 "cells": [
  {
   "cell_type": "code",
   "execution_count": null,
   "metadata": {},
   "outputs": [],
   "source": [
    "pip install transformers\n"
   ]
  },
  {
   "cell_type": "code",
   "execution_count": null,
   "metadata": {},
   "outputs": [],
   "source": [
    "from transformers import pipeline\n"
   ]
  },
  {
   "cell_type": "code",
   "execution_count": null,
   "metadata": {},
   "outputs": [],
   "source": [
    "summarizer = pipeline(\"summarization\")\n"
   ]
  },
  {
   "cell_type": "code",
   "execution_count": null,
   "metadata": {},
   "outputs": [],
   "source": [
    "summarizer = pipeline(\"summarization\")\n"
   ]
  },
  {
   "cell_type": "code",
   "execution_count": null,
   "metadata": {},
   "outputs": [],
   "source": [
    "ARTICLE = \"\"\"\n",
    "Morphology is a branch of linguistics that studies the structure and formation of words in a language. It deals with the internal structure of words and how words are formed by combining meaningful units called morphemes. Morphemes are the smallest units of meaning in a language.\n",
    "Key concepts in morphology include:\n",
    "Morpheme:\n",
    "A morpheme is the smallest grammatical unit in a language that carries meaning. It can be a word or part of a word.\n",
    "Examples:\n",
    "\"Cat\" is a single morpheme representing the animal.\n",
    "\"Un-\" and \"-able\" are morphemes in the word \"unable,\" where \"un-\" indicates negation and \"-able\" indicates capability.\n",
    "Types of Morphemes:\n",
    "Free Morpheme: A morpheme that can stand alone as a word and carry meaning by itself. Example: \"Cat\"\n",
    "Bound Morpheme: A morpheme that cannot stand alone but must be attached to another morpheme. Example: The prefix \"un-\" in \"undo\" or the suffix \"-ed\" in \"walked.\"\n",
    "Morphological Processes:\n",
    "Inflection: The modification of a word to express different grammatical categories, such as tense, number, gender, case, etc. Example: \"Walk\" (base form) → \"Walked\" (past tense)\n",
    "Derivation: The creation of new words by adding affixes (prefixes or suffixes) to existing words. Example: \"Happy\" (base) → \"Unhappy\" (prefix \"un-\" added)\n",
    "Word Formation Rules:\n",
    "Languages have specific rules and patterns for forming words from morphemes. For example, in English, plural nouns are often formed by adding \"-s\" or \"-es\" (e.g., \"cat\" → \"cats\").\n",
    "Morphological Analysis:\n",
    "Morphological analysis involves breaking down words into their constituent morphemes and analyzing their structure and meaning.\n",
    "Example: The word \"unhappiness\" can be analyzed as \"un-\" (prefix meaning not) + \"happy\" (base adjective) + \"-ness\" (suffix forming a noun from an adjective).\n",
    "Morphological Typology:\n",
    "Morphological typology classifies languages based on their morphological characteristics, such as the use of inflectional or agglutinative morphemes.\n",
    "Example: English has a relatively simple inflectional system compared to languages like Finnish or Turkish, which use extensive agglutination.\n",
    "Morphology is essential for understanding how words are formed and structured in a language, which is crucial for various areas of linguistics and natural language processing (NLP). In NLP, morphological analysis plays a role in tasks such as tokenization, lemmatization, stemming, and part-of-speech tagging, helping to process and analyze text data accurately and efficiently.\n",
    "\"\"\""
   ]
  },
  {
   "cell_type": "code",
   "execution_count": null,
   "metadata": {},
   "outputs": [],
   "source": [
    "summarizer(ARTICLE, max_length=130, min_length=30, do_sample=False)"
   ]
  }
 ],
 "metadata": {
  "kernelspec": {
   "display_name": "Python 3",
   "language": "python",
   "name": "python3"
  },
  "language_info": {
   "codemirror_mode": {
    "name": "ipython",
    "version": 3
   },
   "file_extension": ".py",
   "mimetype": "text/x-python",
   "name": "python",
   "nbconvert_exporter": "python",
   "pygments_lexer": "ipython3",
   "version": "3.11.9"
  }
 },
 "nbformat": 4,
 "nbformat_minor": 2
}
